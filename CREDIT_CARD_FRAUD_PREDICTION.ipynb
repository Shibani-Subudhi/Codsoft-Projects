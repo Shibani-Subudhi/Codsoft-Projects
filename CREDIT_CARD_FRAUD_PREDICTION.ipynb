{
  "cells": [
    {
      "cell_type": "markdown",
      "metadata": {
        "id": "view-in-github",
        "colab_type": "text"
      },
      "source": [
        "<a href=\"https://colab.research.google.com/github/Shibani-Subudhi/Codsoft-Projects/blob/main/CREDIT_CARD_FRAUD_PREDICTION.ipynb\" target=\"_parent\"><img src=\"https://colab.research.google.com/assets/colab-badge.svg\" alt=\"Open In Colab\"/></a>"
      ]
    },
    {
      "cell_type": "markdown",
      "source": [
        "TASK 3 : CREDIT CARD FRAUD DETECTION\n",
        "\n",
        "DOMAIN : DATA SCIENCE\n",
        "\n",
        "AIM : TO BUILD AMODEL THAT CAN IDENTIFY THE OR DETECT THE FRAUD"
      ],
      "metadata": {
        "id": "0RwUk_FWnnMB"
      }
    },
    {
      "cell_type": "markdown",
      "metadata": {
        "id": "cDH3btnlYjEz"
      },
      "source": [
        "IMPORTING LIBRARIES"
      ]
    },
    {
      "cell_type": "code",
      "execution_count": 5,
      "metadata": {
        "id": "pD57qESHWnF2"
      },
      "outputs": [],
      "source": [
        "import pandas as pd\n",
        "import pickle\n",
        "from sklearn.model_selection import train_test_split\n",
        "from sklearn.preprocessing import StandardScaler\n",
        "from sklearn.ensemble import RandomForestClassifier\n",
        "from sklearn.pipeline import Pipeline\n",
        "from sklearn.metrics import classification_report\n",
        "\n",
        "pd.set_option('display.max_columns',None)\n"
      ]
    },
    {
      "cell_type": "markdown",
      "metadata": {
        "id": "dxlZ6f4HY71T"
      },
      "source": [
        "IMPORTING DATASET"
      ]
    },
    {
      "cell_type": "code",
      "execution_count": null,
      "metadata": {
        "id": "0zjc5JSTY-q1"
      },
      "outputs": [],
      "source": [
        "df=pd.read_csv(\"/content/creditcard.csv\")\n",
        "df.head()"
      ]
    },
    {
      "cell_type": "markdown",
      "source": [
        "EXPLORATION ON DATASET"
      ],
      "metadata": {
        "id": "ceCyv3xFd5mn"
      }
    },
    {
      "cell_type": "code",
      "execution_count": null,
      "metadata": {
        "id": "4Q_baRhhZNRt"
      },
      "outputs": [],
      "source": [
        "df.shape"
      ]
    },
    {
      "cell_type": "code",
      "source": [
        "df.info()"
      ],
      "metadata": {
        "id": "8kTtkRgReD3_"
      },
      "execution_count": null,
      "outputs": []
    },
    {
      "cell_type": "code",
      "source": [
        "df.dtypes"
      ],
      "metadata": {
        "id": "YI3BkvV0eHNk"
      },
      "execution_count": null,
      "outputs": []
    },
    {
      "cell_type": "code",
      "source": [
        "df.isnull().sum()"
      ],
      "metadata": {
        "id": "1c0DUJA9eQef"
      },
      "execution_count": null,
      "outputs": []
    },
    {
      "cell_type": "code",
      "source": [
        "fraud_count=df[\"Class\"].value_counts()\n",
        "fraud_rate=100*fraud_count/df.shape[0]\n",
        "fraud_data=pd.concat([fraud_count,fraud_rate],axis=1).reset_index()\n",
        "fraud_data.columns=['Class','Count','Percentage']\n",
        "fraud_data"
      ],
      "metadata": {
        "id": "KJESUdPeeviu"
      },
      "execution_count": null,
      "outputs": []
    },
    {
      "cell_type": "markdown",
      "source": [
        "DATA PREPARATION"
      ],
      "metadata": {
        "id": "JB0mUZtTf2-9"
      }
    },
    {
      "cell_type": "code",
      "source": [
        "#handling imbalance\n",
        "df_fraud=df[df['Class']==1]\n",
        "df_not_fraud=df[df['Class']==0]\n",
        "df_not_fraud_sampled=df_not_fraud.sample(df_fraud.shape[0],replace=False,random_state=101)\n",
        "\n",
        "df_balanced=pd.concat([df_not_fraud_sampled,df_fraud],axis=0).sample(frac=1,replace=False,random_state=101).reset_index().drop('index',axis=1)\n",
        "df_balanced\n",
        "\n"
      ],
      "metadata": {
        "id": "M7jlK65zfkc5"
      },
      "execution_count": null,
      "outputs": []
    },
    {
      "cell_type": "code",
      "source": [
        "#checking balance\n",
        "fraud_count=df_balanced[\"Class\"].value_counts()\n",
        "fraud_rate=100*fraud_count/df_balanced.shape[0]\n",
        "fraud_data=pd.concat([fraud_count,fraud_rate],axis=1).reset_index()\n",
        "fraud_data.columns=['Class','Count','Percentage']\n",
        "\n",
        "fraud_data"
      ],
      "metadata": {
        "id": "najeN7N8bVe2"
      },
      "execution_count": null,
      "outputs": []
    },
    {
      "cell_type": "code",
      "source": [
        "X_train,X_test,y_train,y_test=train_test_split(df_balanced.drop('Class',axis=1),df_balanced['Class'],test_size=0.2,random_state=101)\n",
        "print(f'''X_train: {X_train.shape}\n",
        "      X_test:{X_test.shape}\n",
        "      y_train:{y_train.shape}\n",
        "      y_test{y_test.shape}''')"
      ],
      "metadata": {
        "id": "lLhNMn0ocMne"
      },
      "execution_count": null,
      "outputs": []
    },
    {
      "cell_type": "markdown",
      "source": [
        "FITTING A RANDOM FOREST MODEL"
      ],
      "metadata": {
        "id": "vBN7S82jlJc1"
      }
    },
    {
      "cell_type": "code",
      "source": [
        "randomForestModel=Pipeline([\n",
        "    ('scalar',StandardScaler()),\n",
        "    ('classifier',RandomForestClassifier())]\n",
        ")\n",
        "randomForestModel.fit(X_train,y_train)"
      ],
      "metadata": {
        "id": "8S8lxpIplNY2"
      },
      "execution_count": null,
      "outputs": []
    },
    {
      "cell_type": "code",
      "source": [
        "y_pred_logis=randomForestModel.predict(X_test)\n",
        "y_pred_logis"
      ],
      "metadata": {
        "colab": {
          "base_uri": "https://localhost:8080/"
        },
        "id": "unekTI--l4CU",
        "outputId": "ff0269c4-f758-4b2e-8772-f52e28058450"
      },
      "execution_count": 24,
      "outputs": [
        {
          "output_type": "execute_result",
          "data": {
            "text/plain": [
              "array([0.])"
            ]
          },
          "metadata": {},
          "execution_count": 24
        }
      ]
    },
    {
      "cell_type": "code",
      "source": [
        "cr=classification_report(y_test,y_pred_logis)\n",
        "print(cr)"
      ],
      "metadata": {
        "colab": {
          "base_uri": "https://localhost:8080/"
        },
        "id": "2Lb1wkVZmIJw",
        "outputId": "21476c2a-5f46-4dd4-cbfa-d0fd1c86b2ea"
      },
      "execution_count": 25,
      "outputs": [
        {
          "output_type": "stream",
          "name": "stdout",
          "text": [
            "              precision    recall  f1-score   support\n",
            "\n",
            "         0.0       1.00      1.00      1.00         1\n",
            "\n",
            "    accuracy                           1.00         1\n",
            "   macro avg       1.00      1.00      1.00         1\n",
            "weighted avg       1.00      1.00      1.00         1\n",
            "\n"
          ]
        }
      ]
    },
    {
      "cell_type": "code",
      "source": [
        "with open('./model.pkl','wb') as fp:\n",
        "  pickle.dump(randomForestModel,fp)"
      ],
      "metadata": {
        "id": "9-4nNT9immf1"
      },
      "execution_count": 26,
      "outputs": []
    }
  ],
  "metadata": {
    "colab": {
      "provenance": [],
      "authorship_tag": "ABX9TyOuO3h/pPy0L10gEdoWbPLM",
      "include_colab_link": true
    },
    "kernelspec": {
      "display_name": "Python 3",
      "name": "python3"
    },
    "language_info": {
      "name": "python"
    }
  },
  "nbformat": 4,
  "nbformat_minor": 0
}